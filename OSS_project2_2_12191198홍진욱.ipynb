{
 "cells": [
  {
   "cell_type": "code",
   "execution_count": 4,
   "id": "344fcd48",
   "metadata": {
    "scrolled": true
   },
   "outputs": [
    {
     "name": "stdout",
     "output_type": "stream",
     "text": [
      "Decision Tree Test RMSE:  30.547735658247305\n",
      "Random Forest Test RMSE:  22.66174681180511\n",
      "SVM Test RMSE:  32.3804844983029\n"
     ]
    }
   ],
   "source": [
    "import pandas as pd\n",
    "import numpy as np\n",
    "from pandas import DataFrame,Series\n",
    "from sklearn.svm import SVR\n",
    "from sklearn.pipeline import make_pipeline\n",
    "from sklearn.preprocessing import StandardScaler\n",
    "from sklearn.model_selection import train_test_split\n",
    "from sklearn.datasets import fetch_california_housing\n",
    "from sklearn.ensemble import RandomForestRegressor\n",
    "from sklearn.tree import DecisionTreeRegressor\n",
    "from sklearn.tree import export_text\n",
    "\n",
    "def sort_dataset(dataset_df):   \n",
    "    \n",
    "    return dataset_df.sort_values('year',ascending=True)\n",
    "\n",
    "def split_dataset(dataset_df):\t   \n",
    "    X_train = dataset_df.drop(columns='salary', axis=1).iloc[:1718]\n",
    "    X_test = dataset_df.drop(columns='salary', axis=1).iloc[1718:]\n",
    "\n",
    "    Y_train = dataset_df['salary'].iloc[:1718]*0.001\n",
    "    Y_test = dataset_df['salary'].iloc[1718:]*0.001 \n",
    "    \n",
    "    return X_train, X_test, Y_train, Y_test\n",
    "\n",
    "def extract_numerical_cols(dataset_df):\n",
    "    \n",
    "    return dataset_df.loc[:,['age','G','PA','AB','R','H','2B','3B','HR','RBI','SB','CS','BB','HBP','SO','GDP','fly','war']]\n",
    "\n",
    "def train_predict_decision_tree(X_train, Y_train, X_test):   \n",
    "    dtree_cls=DecisionTreeRegressor()\n",
    "    dtree_cls.fit(X_train,Y_train)\n",
    "   \n",
    "    return dtree_cls.predict(X_test)\n",
    "\n",
    "def train_predict_random_forest(X_train, Y_train, X_test):   \n",
    "    rforest_cls=RandomForestRegressor()\n",
    "    rforest_cls.fit(X_train,Y_train)  \n",
    "    \n",
    "    return rforest_cls.predict(X_test)\n",
    "\n",
    "def train_predict_svm(X_train, Y_train, X_test):    \n",
    "    svm_pipe=make_pipeline(StandardScaler(),SVR())  \n",
    "    svm_pipe.fit(X_train, Y_train)\n",
    "    \n",
    "    return svm_pipe.predict(X_test)\n",
    "\n",
    "def calculate_RMSE(labels, predictions):\n",
    "    \n",
    "    return np.sqrt(np.mean((predictions-labels)**2))\n",
    "\n",
    "if __name__=='__main__':\n",
    "\t#DO NOT MODIFY THIS FUNCTION UNLESS PATH TO THE CSV MUST BE CHANGED.\n",
    "\tdata_df = pd.read_csv('2019_kbo_for_kaggle_v2.csv')\n",
    "\t\n",
    "\tsorted_df = sort_dataset(data_df)\t\n",
    "\tX_train, X_test, Y_train, Y_test = split_dataset(sorted_df)\n",
    "\t\n",
    "\tX_train = extract_numerical_cols(X_train)\n",
    "\tX_test = extract_numerical_cols(X_test)\n",
    "\n",
    "\tdt_predictions = train_predict_decision_tree(X_train, Y_train, X_test)\n",
    "\trf_predictions = train_predict_random_forest(X_train, Y_train, X_test)\n",
    "\tsvm_predictions = train_predict_svm(X_train, Y_train, X_test)\n",
    "\t\n",
    "\tprint (\"Decision Tree Test RMSE: \", calculate_RMSE(Y_test, dt_predictions))\t\n",
    "\tprint (\"Random Forest Test RMSE: \", calculate_RMSE(Y_test, rf_predictions))\t\n",
    "\tprint (\"SVM Test RMSE: \", calculate_RMSE(Y_test, svm_predictions))"
   ]
  },
  {
   "cell_type": "code",
   "execution_count": null,
   "id": "49ffa1f5",
   "metadata": {},
   "outputs": [],
   "source": []
  },
  {
   "cell_type": "code",
   "execution_count": null,
   "id": "85101608",
   "metadata": {},
   "outputs": [],
   "source": []
  }
 ],
 "metadata": {
  "kernelspec": {
   "display_name": "Python 3 (ipykernel)",
   "language": "python",
   "name": "python3"
  },
  "language_info": {
   "codemirror_mode": {
    "name": "ipython",
    "version": 3
   },
   "file_extension": ".py",
   "mimetype": "text/x-python",
   "name": "python",
   "nbconvert_exporter": "python",
   "pygments_lexer": "ipython3",
   "version": "3.11.5"
  }
 },
 "nbformat": 4,
 "nbformat_minor": 5
}
